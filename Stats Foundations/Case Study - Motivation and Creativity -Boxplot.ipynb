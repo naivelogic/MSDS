{
 "cells": [
  {
   "cell_type": "markdown",
   "metadata": {},
   "source": [
    "# Case Study 1.1 Motivation and Creative Study\n",
    "### Box Plot Analysis\n",
    "\n",
    "Book: The Statistical Sleuth"
   ]
  },
  {
   "cell_type": "code",
   "execution_count": 1,
   "metadata": {},
   "outputs": [],
   "source": [
    "library(ggplot2) # library"
   ]
  },
  {
   "cell_type": "code",
   "execution_count": 2,
   "metadata": {},
   "outputs": [],
   "source": [
    "intrinsic_group <- c(12.0, 12.0, 12.9, 13.6, 16.6, 17.2, 17.5, 18.2, 19.1, 19.3, 19.8, 20.3, \n",
    "                    20.5, 20.6, 21.3, 21.6, 22.1, 22.2, 22.6, 23.1, 24.0, 24.3, 26.7, 29.7)\n",
    "\n",
    "extrinsic_group <- c(5.0, 5.4, 6.1, 10.9, 11.8, 12.0, 12.3, 14.8, 15.0, 16.8, 17.2, 17.2, \n",
    "                    17.4, 17.5, 18.5, 18.7, 18.7, 19.2, 19.5, 20.7, 21.2, 22.1, 24.0)"
   ]
  },
  {
   "cell_type": "code",
   "execution_count": 3,
   "metadata": {},
   "outputs": [
    {
     "data": {
      "text/plain": [
       "   Min. 1st Qu.  Median    Mean 3rd Qu.    Max. \n",
       "  12.00   17.43   20.40   19.88   22.30   29.70 "
      ]
     },
     "metadata": {},
     "output_type": "display_data"
    }
   ],
   "source": [
    "#summary statistics \n",
    "summary(intrinsic_group)"
   ]
  },
  {
   "cell_type": "code",
   "execution_count": 4,
   "metadata": {},
   "outputs": [
    {
     "data": {
      "text/html": [
       "-1.07"
      ],
      "text/latex": [
       "-1.07"
      ],
      "text/markdown": [
       "-1.07"
      ],
      "text/plain": [
       "[1] -1.07"
      ]
     },
     "metadata": {},
     "output_type": "display_data"
    }
   ],
   "source": [
    "(22.30-20.40)-(20.40-17.43)"
   ]
  },
  {
   "cell_type": "code",
   "execution_count": null,
   "metadata": {},
   "outputs": [],
   "source": []
  },
  {
   "cell_type": "code",
   "execution_count": 5,
   "metadata": {},
   "outputs": [
    {
     "data": {
      "text/html": [
       "4.43951296454001"
      ],
      "text/latex": [
       "4.43951296454001"
      ],
      "text/markdown": [
       "4.43951296454001"
      ],
      "text/plain": [
       "[1] 4.439513"
      ]
     },
     "metadata": {},
     "output_type": "display_data"
    }
   ],
   "source": [
    "sd(intrinsic_group)"
   ]
  },
  {
   "cell_type": "code",
   "execution_count": 6,
   "metadata": {},
   "outputs": [
    {
     "data": {
      "text/html": [
       "24"
      ],
      "text/latex": [
       "24"
      ],
      "text/markdown": [
       "24"
      ],
      "text/plain": [
       "[1] 24"
      ]
     },
     "metadata": {},
     "output_type": "display_data"
    }
   ],
   "source": [
    "length(intrinsic_group)"
   ]
  },
  {
   "cell_type": "code",
   "execution_count": 7,
   "metadata": {},
   "outputs": [
    {
     "data": {
      "text/plain": [
       "   Min. 1st Qu.  Median    Mean 3rd Qu.    Max. \n",
       "   5.00   12.15   17.20   15.74   18.95   24.00 "
      ]
     },
     "metadata": {},
     "output_type": "display_data"
    }
   ],
   "source": [
    "#summary statistics \n",
    "summary(extrinsic_group)"
   ]
  },
  {
   "cell_type": "code",
   "execution_count": 8,
   "metadata": {},
   "outputs": [
    {
     "data": {
      "text/html": [
       "5.25259581976853"
      ],
      "text/latex": [
       "5.25259581976853"
      ],
      "text/markdown": [
       "5.25259581976853"
      ],
      "text/plain": [
       "[1] 5.252596"
      ]
     },
     "metadata": {},
     "output_type": "display_data"
    }
   ],
   "source": [
    "sd(extrinsic_group)"
   ]
  },
  {
   "cell_type": "code",
   "execution_count": 9,
   "metadata": {},
   "outputs": [
    {
     "data": {
      "text/html": [
       "23"
      ],
      "text/latex": [
       "23"
      ],
      "text/markdown": [
       "23"
      ],
      "text/plain": [
       "[1] 23"
      ]
     },
     "metadata": {},
     "output_type": "display_data"
    }
   ],
   "source": [
    "length(extrinsic_group)"
   ]
  },
  {
   "cell_type": "code",
   "execution_count": 10,
   "metadata": {},
   "outputs": [
    {
     "data": {
      "text/html": [
       "-3.3"
      ],
      "text/latex": [
       "-3.3"
      ],
      "text/markdown": [
       "-3.3"
      ],
      "text/plain": [
       "[1] -3.3"
      ]
     },
     "metadata": {},
     "output_type": "display_data"
    }
   ],
   "source": [
    "(18.95-17.20)-(17.20-12.15)"
   ]
  },
  {
   "cell_type": "markdown",
   "metadata": {},
   "source": [
    "Creat box plot displaying the creative score of participants."
   ]
  },
  {
   "cell_type": "code",
   "execution_count": 11,
   "metadata": {},
   "outputs": [
    {
     "data": {
      "image/png": "[encoded data removed]",
      "text/plain": [
       "Plot with title “Summary of Creative Scores by Intrinsic (blue) & extrinsic (green)”"
      ]
     },
     "metadata": {},
     "output_type": "display_data"
    }
   ],
   "source": [
    "boxplot(intrinsic_group, extrinsic_group, \n",
    "       ylab = \"Group Creative Scores\", col = c(\"blue\", \"green\"),\n",
    "       #horizontal=TRUE,\n",
    "       main=\"Summary of Creative Scores by Intrinsic (blue) & extrinsic (green)\")\n",
    "legend(\"topright\", legend = c(\"intrinsic_group\", \"extrinsic_group\"), fill = c(\"blue\", \"green\"), bg = \"white\")\n"
   ]
  },
  {
   "cell_type": "markdown",
   "metadata": {},
   "source": [
    "### General Observations about the box plot\n",
    "First off we can see there are two boxplots: one for the intrensic group (blue) and the extrensic group (green). We use box plots to compare the two creative scores. At first looks at the overall symmetry of the dataset, we can see the intresnic group shows a bit skewed left containing no outliers. While, the extrensic group is more left skewed than the intrensic group which does not contain any outliers.\n",
    "\n",
    "With further analysis, we can see the intrensic group on average (median) recieved higher scores than the extrensic group. We can also see the intresnic group has a larger number of higher values indicated by the longer upper whisker tail. However, both box plots are comparatively tall suggesting participants creative score varied. "
   ]
  }
 ],
 "metadata": {
  "kernelspec": {
   "display_name": "R",
   "language": "R",
   "name": "ir"
  },
  "language_info": {
   "codemirror_mode": "r",
   "file_extension": ".r",
   "mimetype": "text/x-r-source",
   "name": "R",
   "pygments_lexer": "r",
   "version": "3.5.1"
  }
 },
 "nbformat": 4,
 "nbformat_minor": 2
}
